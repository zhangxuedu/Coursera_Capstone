{
 "cells": [
  {
   "cell_type": "markdown",
   "metadata": {},
   "source": [
    "# The Battle of Neighborhoods\n",
    "## --Capstone project"
   ]
  },
  {
   "cell_type": "markdown",
   "metadata": {},
   "source": [
    "## Introduction the Business Problem"
   ]
  },
  {
   "cell_type": "markdown",
   "metadata": {},
   "source": [
    "#### I will help Jack Ma look for a new place in HK to open a new cinema.\n",
    "\n",
    "Jack aims to set up a new cinema in HK to start up his new business in the field of entertainments. I would help him to find a amazing spot for his first cinema.\n",
    "  \n",
    "In gerneral, watching movie is part of whole afternoon or night activities. Cinema should have many restaurants and shopping places around it. Transportation is also an important factor. Customer can walk to cinema within few minutess from public transport facilities such as bus stop or subway station.\n",
    "  \n",
    "I would focus on the environment of cinema and I have got a list of top 10 favorite cinemas in HK with rating.  \n",
    "\n",
    "5 potential locations would be pointed out and the best one should be recommended to Jack, the boss."
   ]
  },
  {
   "cell_type": "markdown",
   "metadata": {},
   "source": [
    "## Data section"
   ]
  },
  {
   "cell_type": "markdown",
   "metadata": {},
   "source": [
    "#### 1. geographic coordinate of HK cinemas\n",
    "\n",
    "First, I will acquire a list of HK cinema with their geographic coordinates from https://hkmovie6.com/cinema ."
   ]
  },
  {
   "cell_type": "code",
   "execution_count": 1,
   "metadata": {},
   "outputs": [],
   "source": [
    "# Import library\n",
    "import json\n",
    "import pandas as pd"
   ]
  },
  {
   "cell_type": "code",
   "execution_count": 5,
   "metadata": {},
   "outputs": [
    {
     "name": "stdout",
     "output_type": "stream",
     "text": [
      "--2019-05-16 13:58:00--  https://hkmovie6.com/api/cinemas/lists\n",
      "正在解析主机 hkmovie6.com (hkmovie6.com)... 104.31.66.1, 104.31.67.1\n",
      "正在连接 hkmovie6.com (hkmovie6.com)|104.31.66.1|:443... 已连接。\n",
      "已发出 HTTP 请求，正在等待回应... 200 OK\n",
      "长度：未指定 [application/json]\n",
      "正在保存至: “hk_cinema_list.json”\n",
      "\n",
      "hk_cinema_list.json     [  <=>               ]  52.07K   195KB/s  用时 0.3s    \n",
      "\n",
      "2019-05-16 13:58:03 (195 KB/s) - “hk_cinema_list.json” 已保存 [53320]\n",
      "\n"
     ]
    }
   ],
   "source": [
    "# Download cinema list\n",
    "!wget -O hk_cinema_list.json https://hkmovie6.com/api/cinemas/lists"
   ]
  },
  {
   "cell_type": "code",
   "execution_count": 6,
   "metadata": {},
   "outputs": [],
   "source": [
    "# Convert JSON file to DataFrmae\n",
    "cinemas_json = None\n",
    "with open('hk_cinema_list.json', 'r') as f:\n",
    "    cinemas_json = json.load(f)\n",
    "    \n",
    "cinemas = []\n",
    "for data in cinemas_json['data']:\n",
    "    cinemas.append({\n",
    "        'Name': data['name'],\n",
    "        'Address': data['address'],\n",
    "        'Latitude': data['lat'],\n",
    "        'Longitude': data['lon']\n",
    "    })\n",
    "df_cinemas = pd.DataFrame(cinemas, columns=['Name','Address','Latitude','Longitude'])"
   ]
  },
  {
   "cell_type": "code",
   "execution_count": 8,
   "metadata": {},
   "outputs": [
    {
     "name": "stdout",
     "output_type": "stream",
     "text": [
      "There existing 70 cinemas in HK for now\n"
     ]
    }
   ],
   "source": [
    "print('There existing {} cinemas in HK for now'.format(len(df_cinemas)))"
   ]
  },
  {
   "cell_type": "code",
   "execution_count": 9,
   "metadata": {},
   "outputs": [
    {
     "data": {
      "text/html": [
       "<div>\n",
       "<style scoped>\n",
       "    .dataframe tbody tr th:only-of-type {\n",
       "        vertical-align: middle;\n",
       "    }\n",
       "\n",
       "    .dataframe tbody tr th {\n",
       "        vertical-align: top;\n",
       "    }\n",
       "\n",
       "    .dataframe thead th {\n",
       "        text-align: right;\n",
       "    }\n",
       "</style>\n",
       "<table border=\"1\" class=\"dataframe\">\n",
       "  <thead>\n",
       "    <tr style=\"text-align: right;\">\n",
       "      <th></th>\n",
       "      <th>Name</th>\n",
       "      <th>Address</th>\n",
       "      <th>Latitude</th>\n",
       "      <th>Longitude</th>\n",
       "    </tr>\n",
       "  </thead>\n",
       "  <tbody>\n",
       "    <tr>\n",
       "      <th>0</th>\n",
       "      <td>Emperor Cinemas - Entertainment Building</td>\n",
       "      <td>3/F, Emperor Cinemas Entertainment Building, 3...</td>\n",
       "      <td>22.281453</td>\n",
       "      <td>114.154230</td>\n",
       "    </tr>\n",
       "    <tr>\n",
       "      <th>1</th>\n",
       "      <td>The Coronet @ Emperor Cinemas - Entertainment ...</td>\n",
       "      <td>3/F, Emperor Cinemas Entertainment Building, 3...</td>\n",
       "      <td>22.281453</td>\n",
       "      <td>114.154230</td>\n",
       "    </tr>\n",
       "    <tr>\n",
       "      <th>2</th>\n",
       "      <td>Emperor Cinemas - Tuen Mun</td>\n",
       "      <td>3/F, New Town Commercial Arcade, 2 Tuen Lee St...</td>\n",
       "      <td>22.390776</td>\n",
       "      <td>113.975983</td>\n",
       "    </tr>\n",
       "    <tr>\n",
       "      <th>3</th>\n",
       "      <td>Broadway Circuit - CYBERPORT</td>\n",
       "      <td>Shop L1 - 3, Level 1, The Arcade, 100 Cyberpor...</td>\n",
       "      <td>22.261067</td>\n",
       "      <td>114.129825</td>\n",
       "    </tr>\n",
       "    <tr>\n",
       "      <th>4</th>\n",
       "      <td>Cinema City VICTORIA (Causeway Bay)</td>\n",
       "      <td>2-8 Sugar Street, Causeway Bay, Hong Kong</td>\n",
       "      <td>22.279805</td>\n",
       "      <td>114.187126</td>\n",
       "    </tr>\n",
       "  </tbody>\n",
       "</table>\n",
       "</div>"
      ],
      "text/plain": [
       "                                                Name  \\\n",
       "0           Emperor Cinemas - Entertainment Building   \n",
       "1  The Coronet @ Emperor Cinemas - Entertainment ...   \n",
       "2                         Emperor Cinemas - Tuen Mun   \n",
       "3                       Broadway Circuit - CYBERPORT   \n",
       "4                Cinema City VICTORIA (Causeway Bay)   \n",
       "\n",
       "                                             Address   Latitude   Longitude  \n",
       "0  3/F, Emperor Cinemas Entertainment Building, 3...  22.281453  114.154230  \n",
       "1  3/F, Emperor Cinemas Entertainment Building, 3...  22.281453  114.154230  \n",
       "2  3/F, New Town Commercial Arcade, 2 Tuen Lee St...  22.390776  113.975983  \n",
       "3  Shop L1 - 3, Level 1, The Arcade, 100 Cyberpor...  22.261067  114.129825  \n",
       "4          2-8 Sugar Street, Causeway Bay, Hong Kong  22.279805  114.187126  "
      ]
     },
     "execution_count": 9,
     "metadata": {},
     "output_type": "execute_result"
    }
   ],
   "source": [
    "df_cinemas.head()"
   ]
  },
  {
   "cell_type": "markdown",
   "metadata": {},
   "source": [
    "The geographic coordinates of 5 potential cinemas."
   ]
  },
  {
   "cell_type": "code",
   "execution_count": 22,
   "metadata": {},
   "outputs": [],
   "source": [
    "p_locations = [\n",
    "    { 'Location': 'L1', 'Address': 'Sau Mau Ping Shopping Centre, Sau Mau Ping', 'Latitude': 22.319503, 'Longitude' : 114.232187},\n",
    "    { 'Location': 'L2', 'Address': 'Tuen Mun Ferry, Tuen Mun', 'Latitude': 22.371780, 'Longitude' : 113.966039},\n",
    "    { 'Location': 'L3', 'Address': 'Un Chau Shopping Centre, Cheung Sha Wan', 'Latitude': 22.337280, 'Longitude' : 114.156457},\n",
    "    { 'Location': 'L4', 'Address': 'Prosperity Millennia Plaza, North Point', 'Latitude': 22.291698, 'Longitude' : 114.208168},\n",
    "    { 'Location': 'L5', 'Address': 'Tsuen Fung Centre Shopping Arcade, Tsuen Wan', 'Latitude': 22.372112, 'Longitude' : 114.119317},\n",
    "]"
   ]
  },
  {
   "cell_type": "markdown",
   "metadata": {},
   "source": [
    "Dataframe of 5 potential locations with geographic coordinates information"
   ]
  },
  {
   "cell_type": "code",
   "execution_count": 24,
   "metadata": {},
   "outputs": [
    {
     "data": {
      "text/html": [
       "<div>\n",
       "<style scoped>\n",
       "    .dataframe tbody tr th:only-of-type {\n",
       "        vertical-align: middle;\n",
       "    }\n",
       "\n",
       "    .dataframe tbody tr th {\n",
       "        vertical-align: top;\n",
       "    }\n",
       "\n",
       "    .dataframe thead th {\n",
       "        text-align: right;\n",
       "    }\n",
       "</style>\n",
       "<table border=\"1\" class=\"dataframe\">\n",
       "  <thead>\n",
       "    <tr style=\"text-align: right;\">\n",
       "      <th></th>\n",
       "      <th>Location</th>\n",
       "      <th>Address</th>\n",
       "      <th>Latitude</th>\n",
       "      <th>Longitude</th>\n",
       "    </tr>\n",
       "  </thead>\n",
       "  <tbody>\n",
       "    <tr>\n",
       "      <th>0</th>\n",
       "      <td>L1</td>\n",
       "      <td>Sau Mau Ping Shopping Centre, Sau Mau Ping</td>\n",
       "      <td>22.319503</td>\n",
       "      <td>114.232187</td>\n",
       "    </tr>\n",
       "    <tr>\n",
       "      <th>1</th>\n",
       "      <td>L2</td>\n",
       "      <td>Tuen Mun Ferry, Tuen Mun</td>\n",
       "      <td>22.371780</td>\n",
       "      <td>113.966039</td>\n",
       "    </tr>\n",
       "    <tr>\n",
       "      <th>2</th>\n",
       "      <td>L3</td>\n",
       "      <td>Un Chau Shopping Centre, Cheung Sha Wan</td>\n",
       "      <td>22.337280</td>\n",
       "      <td>114.156457</td>\n",
       "    </tr>\n",
       "    <tr>\n",
       "      <th>3</th>\n",
       "      <td>L4</td>\n",
       "      <td>Prosperity Millennia Plaza, North Point</td>\n",
       "      <td>22.291698</td>\n",
       "      <td>114.208168</td>\n",
       "    </tr>\n",
       "    <tr>\n",
       "      <th>4</th>\n",
       "      <td>L5</td>\n",
       "      <td>Tsuen Fung Centre Shopping Arcade, Tsuen Wan</td>\n",
       "      <td>22.372112</td>\n",
       "      <td>114.119317</td>\n",
       "    </tr>\n",
       "  </tbody>\n",
       "</table>\n",
       "</div>"
      ],
      "text/plain": [
       "  Location                                       Address   Latitude  \\\n",
       "0       L1    Sau Mau Ping Shopping Centre, Sau Mau Ping  22.319503   \n",
       "1       L2                      Tuen Mun Ferry, Tuen Mun  22.371780   \n",
       "2       L3       Un Chau Shopping Centre, Cheung Sha Wan  22.337280   \n",
       "3       L4       Prosperity Millennia Plaza, North Point  22.291698   \n",
       "4       L5  Tsuen Fung Centre Shopping Arcade, Tsuen Wan  22.372112   \n",
       "\n",
       "    Longitude  \n",
       "0  114.232187  \n",
       "1  113.966039  \n",
       "2  114.156457  \n",
       "3  114.208168  \n",
       "4  114.119317  "
      ]
     },
     "execution_count": 24,
     "metadata": {},
     "output_type": "execute_result"
    }
   ],
   "source": [
    "df_p_locations = pd.DataFrame(p_locations, columns=['Location', 'Address', 'Latitude', 'Longitude'])\n",
    "df_p_locations"
   ]
  },
  {
   "cell_type": "markdown",
   "metadata": {},
   "source": [
    "#### 4. Favorite cinema list from Jack"
   ]
  },
  {
   "cell_type": "markdown",
   "metadata": {},
   "source": [
    "The favorite cinema list provide information that I could use to choose the best location and the rating is range of 1.0 (worst) to 5.0 (best) values."
   ]
  },
  {
   "cell_type": "code",
   "execution_count": 27,
   "metadata": {},
   "outputs": [
    {
     "data": {
      "text/html": [
       "<div>\n",
       "<style scoped>\n",
       "    .dataframe tbody tr th:only-of-type {\n",
       "        vertical-align: middle;\n",
       "    }\n",
       "\n",
       "    .dataframe tbody tr th {\n",
       "        vertical-align: top;\n",
       "    }\n",
       "\n",
       "    .dataframe thead th {\n",
       "        text-align: right;\n",
       "    }\n",
       "</style>\n",
       "<table border=\"1\" class=\"dataframe\">\n",
       "  <thead>\n",
       "    <tr style=\"text-align: right;\">\n",
       "      <th></th>\n",
       "      <th>Name</th>\n",
       "      <th>Rating</th>\n",
       "    </tr>\n",
       "  </thead>\n",
       "  <tbody>\n",
       "    <tr>\n",
       "      <th>0</th>\n",
       "      <td>Boradway Circuit - MONGKONG</td>\n",
       "      <td>4.5</td>\n",
       "    </tr>\n",
       "    <tr>\n",
       "      <th>1</th>\n",
       "      <td>Boradway Circuit - The ONE</td>\n",
       "      <td>4.5</td>\n",
       "    </tr>\n",
       "    <tr>\n",
       "      <th>2</th>\n",
       "      <td>Grand Ocean</td>\n",
       "      <td>4.3</td>\n",
       "    </tr>\n",
       "    <tr>\n",
       "      <th>3</th>\n",
       "      <td>The Grand Cinema</td>\n",
       "      <td>3.4</td>\n",
       "    </tr>\n",
       "    <tr>\n",
       "      <th>4</th>\n",
       "      <td>AMC Pacific Place</td>\n",
       "      <td>2.3</td>\n",
       "    </tr>\n",
       "    <tr>\n",
       "      <th>5</th>\n",
       "      <td>UA IMAX @ Airport</td>\n",
       "      <td>1.5</td>\n",
       "    </tr>\n",
       "  </tbody>\n",
       "</table>\n",
       "</div>"
      ],
      "text/plain": [
       "                          Name  Rating\n",
       "0  Boradway Circuit - MONGKONG     4.5\n",
       "1   Boradway Circuit - The ONE     4.5\n",
       "2                  Grand Ocean     4.3\n",
       "3             The Grand Cinema     3.4\n",
       "4            AMC Pacific Place     2.3\n",
       "5            UA IMAX @ Airport     1.5"
      ]
     },
     "execution_count": 27,
     "metadata": {},
     "output_type": "execute_result"
    }
   ],
   "source": [
    "Jack_list = [\n",
    "    {'Name': 'Boradway Circuit - MONGKONG', 'Rating': 4.5},\n",
    "    {'Name': 'Boradway Circuit - The ONE', 'Rating': 4.5},\n",
    "    {'Name': 'Grand Ocean', 'Rating': 4.3},\n",
    "    {'Name': 'The Grand Cinema', 'Rating': 3.4},\n",
    "    {'Name': 'AMC Pacific Place', 'Rating': 2.3},\n",
    "    {'Name': 'UA IMAX @ Airport', 'Rating': 1.5},\n",
    "]\n",
    "\n",
    "df_Jack_list = pd.DataFrame(Jack_list, columns=['Name','Rating'])\n",
    "\n",
    "df_Jack_list"
   ]
  },
  {
   "cell_type": "markdown",
   "metadata": {},
   "source": [
    "#### 4. Surroundings\n",
    "The recommended cinema location needs to have many eating and shopping venues nearby. Convenient public transport is a big plus. FourSquare API would be used to find these venues and 5 minutes walking distance is about 500m. This should be suitable distance to search nearby venues."
   ]
  },
  {
   "cell_type": "markdown",
   "metadata": {},
   "source": [
    "Due to the API limitation, it would be better to search venues by category. Following categories will be used for finding the target venues. Full list of categories: https://developer.foursquare.com/docs/resources/categories"
   ]
  },
  {
   "cell_type": "code",
   "execution_count": 28,
   "metadata": {},
   "outputs": [],
   "source": [
    "cinema = df_cinemas.loc[0]"
   ]
  },
  {
   "cell_type": "code",
   "execution_count": 29,
   "metadata": {},
   "outputs": [
    {
     "name": "stdout",
     "output_type": "stream",
     "text": [
      "Use the first cinema \"Emperor Cinemas - Entertainment Building\" in the list as example to explore venues nearyby\n"
     ]
    }
   ],
   "source": [
    "print('Use the first cinema \"{}\" in the list as example to explore venues nearyby'.format(cinema['Name']))"
   ]
  },
  {
   "cell_type": "code",
   "execution_count": 30,
   "metadata": {},
   "outputs": [],
   "source": [
    "fs_categories = {\n",
    "    'Food': '4d4b7105d754a06374d81259',\n",
    "    'Shop & Service': '4d4b7105d754a06378d81259',\n",
    "    'Bus Stop': '52f2ab2ebcbc57f1066b8b4f',\n",
    "    'Metro Station': '4bf58dd8d48988d1fd931735',\n",
    "    'Nightlife Spot': '4d4b7105d754a06376d81259',\n",
    "    'Arts & Entertainment': '4d4b7104d754a06370d81259'\n",
    "}"
   ]
  },
  {
   "cell_type": "code",
   "execution_count": 31,
   "metadata": {},
   "outputs": [
    {
     "name": "stdout",
     "output_type": "stream",
     "text": [
      "Collecting foursquare\n",
      "  Downloading https://files.pythonhosted.org/packages/a2/fc/825326248f9caf7c19a58dede1b7f1604573e998dd6f6003cba1701215db/foursquare-1%212019.2.16.tar.gz\n",
      "Requirement already satisfied: requests>=2.1 in /Users/apple/anaconda3/lib/python3.7/site-packages (from foursquare) (2.19.1)\n",
      "Requirement already satisfied: six in /Users/apple/anaconda3/lib/python3.7/site-packages (from foursquare) (1.11.0)\n",
      "Requirement already satisfied: idna<2.8,>=2.5 in /Users/apple/anaconda3/lib/python3.7/site-packages (from requests>=2.1->foursquare) (2.7)\n",
      "Requirement already satisfied: chardet<3.1.0,>=3.0.2 in /Users/apple/anaconda3/lib/python3.7/site-packages (from requests>=2.1->foursquare) (3.0.4)\n",
      "Requirement already satisfied: certifi>=2017.4.17 in /Users/apple/anaconda3/lib/python3.7/site-packages (from requests>=2.1->foursquare) (2018.8.24)\n",
      "Requirement already satisfied: urllib3<1.24,>=1.21.1 in /Users/apple/anaconda3/lib/python3.7/site-packages (from requests>=2.1->foursquare) (1.23)\n",
      "Building wheels for collected packages: foursquare\n",
      "  Building wheel for foursquare (setup.py) ... \u001b[?25ldone\n",
      "\u001b[?25h  Stored in directory: /Users/apple/Library/Caches/pip/wheels/50/82/db/97c078881efb89f4e89560487926fbadfff87a40e5fe41f6fb\n",
      "Successfully built foursquare\n",
      "Installing collected packages: foursquare\n",
      "Successfully installed foursquare-1!2019.2.16\n",
      "\u001b[33mYou are using pip version 19.0.3, however version 19.1.1 is available.\n",
      "You should consider upgrading via the 'pip install --upgrade pip' command.\u001b[0m\n"
     ]
    }
   ],
   "source": [
    "# Install FourSquare client library\n",
    "!pip install foursquare"
   ]
  },
  {
   "cell_type": "code",
   "execution_count": null,
   "metadata": {},
   "outputs": [],
   "source": []
  },
  {
   "cell_type": "code",
   "execution_count": 48,
   "metadata": {},
   "outputs": [],
   "source": [
    "import foursquare\n",
    "from pandas.io.json import json_normalize # tranform JSON file into a pandas dataframe\n",
    "\n",
    "import requests\n",
    "fs = foursquare.Foursquare(client_id= 'CLIENT_ID', client_secret= 'CLIENT_SECRET')\n",
    "RADIUS = 500\n"
   ]
  },
  {
   "cell_type": "code",
   "execution_count": 52,
   "metadata": {},
   "outputs": [],
   "source": [
    "# Define a function to search nearby information and convert the result as dataframe\n",
    "def venues_nearby(latitude, longitude, category):    \n",
    "    results = fs.venues.search(\n",
    "        params = {\n",
    "            'query': category, \n",
    "            'll': '{},{}'.format(latitude, longitude),\n",
    "            'radius': RADIUS,\n",
    "            'categoryId': fs_categories[category]\n",
    "        }\n",
    "    )    \n",
    "    df = json_normalize(results['venues'])\n",
    "    cols = ['Name','Latitude','Longitude']    \n",
    "    if( len(df) == 0 ):        \n",
    "        df = pd.DataFrame(columns=cols)\n",
    "    else:        \n",
    "        df = df[['name','location.lat','location.lng']]\n",
    "        df.columns = cols\n",
    "    print('{} \"{}\" venues are found within {}m of location'.format(len(df), category, RADIUS))\n",
    "    return df\n",
    "    "
   ]
  },
  {
   "cell_type": "code",
   "execution_count": 53,
   "metadata": {},
   "outputs": [
    {
     "name": "stdout",
     "output_type": "stream",
     "text": [
      "2 \"Metro Station\" venues are found within 500m of location\n"
     ]
    },
    {
     "data": {
      "text/html": [
       "<div>\n",
       "<style scoped>\n",
       "    .dataframe tbody tr th:only-of-type {\n",
       "        vertical-align: middle;\n",
       "    }\n",
       "\n",
       "    .dataframe tbody tr th {\n",
       "        vertical-align: top;\n",
       "    }\n",
       "\n",
       "    .dataframe thead th {\n",
       "        text-align: right;\n",
       "    }\n",
       "</style>\n",
       "<table border=\"1\" class=\"dataframe\">\n",
       "  <thead>\n",
       "    <tr style=\"text-align: right;\">\n",
       "      <th></th>\n",
       "      <th>Name</th>\n",
       "      <th>Latitude</th>\n",
       "      <th>Longitude</th>\n",
       "    </tr>\n",
       "  </thead>\n",
       "  <tbody>\n",
       "    <tr>\n",
       "      <th>0</th>\n",
       "      <td>MTR Central Station (港鐵中環站)</td>\n",
       "      <td>22.282115</td>\n",
       "      <td>114.158221</td>\n",
       "    </tr>\n",
       "    <tr>\n",
       "      <th>1</th>\n",
       "      <td>MTR Hong Kong Station (港鐵香港站)</td>\n",
       "      <td>22.285054</td>\n",
       "      <td>114.158379</td>\n",
       "    </tr>\n",
       "  </tbody>\n",
       "</table>\n",
       "</div>"
      ],
      "text/plain": [
       "                            Name   Latitude   Longitude\n",
       "0    MTR Central Station (港鐵中環站)  22.282115  114.158221\n",
       "1  MTR Hong Kong Station (港鐵香港站)  22.285054  114.158379"
      ]
     },
     "execution_count": 53,
     "metadata": {},
     "output_type": "execute_result"
    }
   ],
   "source": [
    "venues_nearby(cinema['Latitude'], cinema['Longitude'], 'Metro Station').head()"
   ]
  },
  {
   "cell_type": "code",
   "execution_count": 54,
   "metadata": {},
   "outputs": [
    {
     "name": "stdout",
     "output_type": "stream",
     "text": [
      "30 \"Bus Stop\" venues are found within 500m of location\n"
     ]
    },
    {
     "data": {
      "text/html": [
       "<div>\n",
       "<style scoped>\n",
       "    .dataframe tbody tr th:only-of-type {\n",
       "        vertical-align: middle;\n",
       "    }\n",
       "\n",
       "    .dataframe tbody tr th {\n",
       "        vertical-align: top;\n",
       "    }\n",
       "\n",
       "    .dataframe thead th {\n",
       "        text-align: right;\n",
       "    }\n",
       "</style>\n",
       "<table border=\"1\" class=\"dataframe\">\n",
       "  <thead>\n",
       "    <tr style=\"text-align: right;\">\n",
       "      <th></th>\n",
       "      <th>Name</th>\n",
       "      <th>Latitude</th>\n",
       "      <th>Longitude</th>\n",
       "    </tr>\n",
       "  </thead>\n",
       "  <tbody>\n",
       "    <tr>\n",
       "      <th>0</th>\n",
       "      <td>Seymour Road / Robinson Road Bus Stop 西摩道／羅便臣道巴士站</td>\n",
       "      <td>22.280465</td>\n",
       "      <td>114.150347</td>\n",
       "    </tr>\n",
       "    <tr>\n",
       "      <th>1</th>\n",
       "      <td>HSBC Main Building / Queen's Road Central Bus ...</td>\n",
       "      <td>22.280329</td>\n",
       "      <td>114.159638</td>\n",
       "    </tr>\n",
       "    <tr>\n",
       "      <th>2</th>\n",
       "      <td>Hang Seng Bank Head Office Bus Stop 恒生銀行總行巴士站</td>\n",
       "      <td>22.283998</td>\n",
       "      <td>114.156038</td>\n",
       "    </tr>\n",
       "    <tr>\n",
       "      <th>3</th>\n",
       "      <td>Douglas Street Bus Stop 德忌利士街巴士站</td>\n",
       "      <td>22.283131</td>\n",
       "      <td>114.157010</td>\n",
       "    </tr>\n",
       "    <tr>\n",
       "      <th>4</th>\n",
       "      <td>Lan Kwai Fong / D'Aguilar Street Bus Stop 蘭桂坊／...</td>\n",
       "      <td>22.281437</td>\n",
       "      <td>114.156131</td>\n",
       "    </tr>\n",
       "  </tbody>\n",
       "</table>\n",
       "</div>"
      ],
      "text/plain": [
       "                                                Name   Latitude   Longitude\n",
       "0  Seymour Road / Robinson Road Bus Stop 西摩道／羅便臣道巴士站  22.280465  114.150347\n",
       "1  HSBC Main Building / Queen's Road Central Bus ...  22.280329  114.159638\n",
       "2      Hang Seng Bank Head Office Bus Stop 恒生銀行總行巴士站  22.283998  114.156038\n",
       "3                   Douglas Street Bus Stop 德忌利士街巴士站  22.283131  114.157010\n",
       "4  Lan Kwai Fong / D'Aguilar Street Bus Stop 蘭桂坊／...  22.281437  114.156131"
      ]
     },
     "execution_count": 54,
     "metadata": {},
     "output_type": "execute_result"
    }
   ],
   "source": [
    "venues_nearby(cinema['Latitude'], cinema['Longitude'], 'Bus Stop').head()"
   ]
  },
  {
   "cell_type": "code",
   "execution_count": 55,
   "metadata": {},
   "outputs": [
    {
     "name": "stdout",
     "output_type": "stream",
     "text": [
      "26 \"Food\" venues are found within 500m of location\n"
     ]
    },
    {
     "data": {
      "text/html": [
       "<div>\n",
       "<style scoped>\n",
       "    .dataframe tbody tr th:only-of-type {\n",
       "        vertical-align: middle;\n",
       "    }\n",
       "\n",
       "    .dataframe tbody tr th {\n",
       "        vertical-align: top;\n",
       "    }\n",
       "\n",
       "    .dataframe thead th {\n",
       "        text-align: right;\n",
       "    }\n",
       "</style>\n",
       "<table border=\"1\" class=\"dataframe\">\n",
       "  <thead>\n",
       "    <tr style=\"text-align: right;\">\n",
       "      <th></th>\n",
       "      <th>Name</th>\n",
       "      <th>Latitude</th>\n",
       "      <th>Longitude</th>\n",
       "    </tr>\n",
       "  </thead>\n",
       "  <tbody>\n",
       "    <tr>\n",
       "      <th>0</th>\n",
       "      <td>Mana! Fast Slow Food</td>\n",
       "      <td>22.282921</td>\n",
       "      <td>114.154651</td>\n",
       "    </tr>\n",
       "    <tr>\n",
       "      <th>1</th>\n",
       "      <td>Good Luck Thai Food (鴻運泰國美食)</td>\n",
       "      <td>22.281165</td>\n",
       "      <td>114.155296</td>\n",
       "    </tr>\n",
       "    <tr>\n",
       "      <th>2</th>\n",
       "      <td>Soul Food</td>\n",
       "      <td>22.281668</td>\n",
       "      <td>114.152495</td>\n",
       "    </tr>\n",
       "    <tr>\n",
       "      <th>3</th>\n",
       "      <td>nood food</td>\n",
       "      <td>22.283088</td>\n",
       "      <td>114.155551</td>\n",
       "    </tr>\n",
       "    <tr>\n",
       "      <th>4</th>\n",
       "      <td>Chiu Lung Fast Food (昭隆美食)</td>\n",
       "      <td>22.282659</td>\n",
       "      <td>114.156753</td>\n",
       "    </tr>\n",
       "  </tbody>\n",
       "</table>\n",
       "</div>"
      ],
      "text/plain": [
       "                           Name   Latitude   Longitude\n",
       "0          Mana! Fast Slow Food  22.282921  114.154651\n",
       "1  Good Luck Thai Food (鴻運泰國美食)  22.281165  114.155296\n",
       "2                     Soul Food  22.281668  114.152495\n",
       "3                     nood food  22.283088  114.155551\n",
       "4    Chiu Lung Fast Food (昭隆美食)  22.282659  114.156753"
      ]
     },
     "execution_count": 55,
     "metadata": {},
     "output_type": "execute_result"
    }
   ],
   "source": [
    "venues_nearby(cinema['Latitude'], cinema['Longitude'], 'Food').head()"
   ]
  },
  {
   "cell_type": "code",
   "execution_count": 56,
   "metadata": {},
   "outputs": [
    {
     "name": "stdout",
     "output_type": "stream",
     "text": [
      "12 \"Arts & Entertainment\" venues are found within 500m of location\n"
     ]
    },
    {
     "data": {
      "text/html": [
       "<div>\n",
       "<style scoped>\n",
       "    .dataframe tbody tr th:only-of-type {\n",
       "        vertical-align: middle;\n",
       "    }\n",
       "\n",
       "    .dataframe tbody tr th {\n",
       "        vertical-align: top;\n",
       "    }\n",
       "\n",
       "    .dataframe thead th {\n",
       "        text-align: right;\n",
       "    }\n",
       "</style>\n",
       "<table border=\"1\" class=\"dataframe\">\n",
       "  <thead>\n",
       "    <tr style=\"text-align: right;\">\n",
       "      <th></th>\n",
       "      <th>Name</th>\n",
       "      <th>Latitude</th>\n",
       "      <th>Longitude</th>\n",
       "    </tr>\n",
       "  </thead>\n",
       "  <tbody>\n",
       "    <tr>\n",
       "      <th>0</th>\n",
       "      <td>Tai Kwun Centre for Heritage and Arts (大館古蹟及藝術館)</td>\n",
       "      <td>22.281224</td>\n",
       "      <td>114.154032</td>\n",
       "    </tr>\n",
       "    <tr>\n",
       "      <th>1</th>\n",
       "      <td>Wah Tung China Arts Limited (華通陶瓷藝術有限公司)</td>\n",
       "      <td>22.283046</td>\n",
       "      <td>114.152723</td>\n",
       "    </tr>\n",
       "    <tr>\n",
       "      <th>2</th>\n",
       "      <td>Ravenel Fine Arts Limited 睿芙奧</td>\n",
       "      <td>22.281819</td>\n",
       "      <td>114.156906</td>\n",
       "    </tr>\n",
       "    <tr>\n",
       "      <th>3</th>\n",
       "      <td>KONG Arts Space</td>\n",
       "      <td>22.281751</td>\n",
       "      <td>114.153300</td>\n",
       "    </tr>\n",
       "    <tr>\n",
       "      <th>4</th>\n",
       "      <td>State Of The Arts</td>\n",
       "      <td>22.282225</td>\n",
       "      <td>114.155006</td>\n",
       "    </tr>\n",
       "  </tbody>\n",
       "</table>\n",
       "</div>"
      ],
      "text/plain": [
       "                                               Name   Latitude   Longitude\n",
       "0  Tai Kwun Centre for Heritage and Arts (大館古蹟及藝術館)  22.281224  114.154032\n",
       "1          Wah Tung China Arts Limited (華通陶瓷藝術有限公司)  22.283046  114.152723\n",
       "2                     Ravenel Fine Arts Limited 睿芙奧  22.281819  114.156906\n",
       "3                                   KONG Arts Space  22.281751  114.153300\n",
       "4                                 State Of The Arts  22.282225  114.155006"
      ]
     },
     "execution_count": 56,
     "metadata": {},
     "output_type": "execute_result"
    }
   ],
   "source": [
    "venues_nearby(cinema['Latitude'], cinema['Longitude'], 'Arts & Entertainment').head()"
   ]
  },
  {
   "cell_type": "markdown",
   "metadata": {},
   "source": [
    "Furthermore, a content-based recommend system could be setup to resolve the problem.  \n",
    "\n",
    "Combine with FourSquare API on counting the numbers of different venues (Food, Transport, Night Life) and Hong Kong cinema list, a cinema nearby venues matrix can be built. Jack's favorite list is sample to combine with cinema nearby venues matrix to become a weighted matrix of favorite cinemas.\n",
    "\n",
    "The weighted matrix can be applied to generate a ranking result. The top in the ranking list can be recommended to Jack.\n"
   ]
  },
  {
   "cell_type": "markdown",
   "metadata": {},
   "source": [
    "## Methodology "
   ]
  },
  {
   "cell_type": "markdown",
   "metadata": {},
   "source": []
  },
  {
   "cell_type": "markdown",
   "metadata": {},
   "source": []
  },
  {
   "cell_type": "markdown",
   "metadata": {},
   "source": [
    "## Results "
   ]
  },
  {
   "cell_type": "markdown",
   "metadata": {},
   "source": []
  },
  {
   "cell_type": "markdown",
   "metadata": {},
   "source": []
  },
  {
   "cell_type": "markdown",
   "metadata": {},
   "source": [
    "## Discussion "
   ]
  },
  {
   "cell_type": "markdown",
   "metadata": {},
   "source": []
  },
  {
   "cell_type": "markdown",
   "metadata": {},
   "source": []
  },
  {
   "cell_type": "markdown",
   "metadata": {},
   "source": [
    "## Conclusion "
   ]
  },
  {
   "cell_type": "markdown",
   "metadata": {},
   "source": []
  },
  {
   "cell_type": "markdown",
   "metadata": {},
   "source": []
  }
 ],
 "metadata": {
  "kernelspec": {
   "display_name": "Python 3",
   "language": "python",
   "name": "python3"
  },
  "language_info": {
   "codemirror_mode": {
    "name": "ipython",
    "version": 3
   },
   "file_extension": ".py",
   "mimetype": "text/x-python",
   "name": "python",
   "nbconvert_exporter": "python",
   "pygments_lexer": "ipython3",
   "version": "3.7.0"
  }
 },
 "nbformat": 4,
 "nbformat_minor": 2
}
